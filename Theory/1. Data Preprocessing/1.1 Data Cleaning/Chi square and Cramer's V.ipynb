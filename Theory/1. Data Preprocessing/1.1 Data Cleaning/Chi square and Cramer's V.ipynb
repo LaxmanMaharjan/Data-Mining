{
 "cells": [
  {
   "cell_type": "code",
   "execution_count": 15,
   "metadata": {},
   "outputs": [],
   "source": [
    "import scipy.stats as ss\n",
    "import numpy as np\n",
    "import pandas as pd"
   ]
  },
  {
   "cell_type": "markdown",
   "metadata": {},
   "source": [
    "## To determine whether there is really a relationship between an employer's performance in the training program and his ultimate success in the job, it takes a sample of 400 cases from it's very extensive files and obtains the reult shown in the table below:\n",
    "\n",
    "## Use the 0.05 level of significance to test whether performance in training program and success in the job are independent.                        \n",
    "[2072 Ashwin BE IOE]"
   ]
  },
  {
   "cell_type": "code",
   "execution_count": 26,
   "metadata": {},
   "outputs": [],
   "source": [
    "data = {'Poor':{\n",
    "    'Below Average':23,\n",
    "    'Average':60,\n",
    "    'Above Average':29\n",
    "},\n",
    "'Average':{\n",
    "    'Below Average':28,\n",
    "    'Average':79,\n",
    "    'Above Average':60\n",
    "},\n",
    "'Very good':{\n",
    "    'Below Average':9,\n",
    "    'Average':49,\n",
    "    'Above Average':63\n",
    "}\n",
    "}"
   ]
  },
  {
   "cell_type": "code",
   "execution_count": 37,
   "metadata": {},
   "outputs": [
    {
     "data": {
      "text/html": [
       "<div>\n",
       "<style scoped>\n",
       "    .dataframe tbody tr th:only-of-type {\n",
       "        vertical-align: middle;\n",
       "    }\n",
       "\n",
       "    .dataframe tbody tr th {\n",
       "        vertical-align: top;\n",
       "    }\n",
       "\n",
       "    .dataframe thead th {\n",
       "        text-align: right;\n",
       "    }\n",
       "</style>\n",
       "<table border=\"1\" class=\"dataframe\">\n",
       "  <thead>\n",
       "    <tr style=\"text-align: right;\">\n",
       "      <th>Performance in training Program</th>\n",
       "      <th>Poor</th>\n",
       "      <th>Average</th>\n",
       "      <th>Very good</th>\n",
       "    </tr>\n",
       "    <tr>\n",
       "      <th>Sucess in job</th>\n",
       "      <th></th>\n",
       "      <th></th>\n",
       "      <th></th>\n",
       "    </tr>\n",
       "  </thead>\n",
       "  <tbody>\n",
       "    <tr>\n",
       "      <th>Below Average</th>\n",
       "      <td>23</td>\n",
       "      <td>28</td>\n",
       "      <td>9</td>\n",
       "    </tr>\n",
       "    <tr>\n",
       "      <th>Average</th>\n",
       "      <td>60</td>\n",
       "      <td>79</td>\n",
       "      <td>49</td>\n",
       "    </tr>\n",
       "    <tr>\n",
       "      <th>Above Average</th>\n",
       "      <td>29</td>\n",
       "      <td>60</td>\n",
       "      <td>63</td>\n",
       "    </tr>\n",
       "  </tbody>\n",
       "</table>\n",
       "</div>"
      ],
      "text/plain": [
       "Performance in training Program  Poor  Average  Very good\n",
       "Sucess in job                                            \n",
       "Below Average                      23       28          9\n",
       "Average                            60       79         49\n",
       "Above Average                      29       60         63"
      ]
     },
     "execution_count": 37,
     "metadata": {},
     "output_type": "execute_result"
    }
   ],
   "source": [
    "crosstab = pd.DataFrame(data)\n",
    "crosstab.index.name= 'Sucess in job'\n",
    "crosstab.columns.name = 'Performance in training Program'\n",
    "crosstab"
   ]
  },
  {
   "cell_type": "code",
   "execution_count": 39,
   "metadata": {},
   "outputs": [],
   "source": [
    "n = np.sum(crosstab.to_numpy())"
   ]
  },
  {
   "cell_type": "code",
   "execution_count": 41,
   "metadata": {},
   "outputs": [],
   "source": [
    "chi2,p,dof,_ = ss.chi2_contingency(crosstab)"
   ]
  },
  {
   "cell_type": "code",
   "execution_count": 42,
   "metadata": {},
   "outputs": [
    {
     "data": {
      "text/plain": [
       "(20.178903582087926, 0.00046038041384262443, 4)"
      ]
     },
     "execution_count": 42,
     "metadata": {},
     "output_type": "execute_result"
    }
   ],
   "source": [
    "chi2,p,dof\n"
   ]
  },
  {
   "cell_type": "code",
   "execution_count": 45,
   "metadata": {},
   "outputs": [
    {
     "data": {
      "text/plain": [
       "(3, 3)"
      ]
     },
     "execution_count": 45,
     "metadata": {},
     "output_type": "execute_result"
    }
   ],
   "source": [
    "crosstab.shape"
   ]
  },
  {
   "cell_type": "code",
   "execution_count": 48,
   "metadata": {},
   "outputs": [
    {
     "data": {
      "text/plain": [
       "0.158819487083953"
      ]
     },
     "execution_count": 48,
     "metadata": {},
     "output_type": "execute_result"
    }
   ],
   "source": [
    "phi2 = chi2/n\n",
    "r, k = crosstab.shape\n",
    "np.sqrt(phi2 / min((k-1), (r-1)))"
   ]
  }
 ],
 "metadata": {
  "kernelspec": {
   "display_name": "Python 3",
   "language": "python",
   "name": "python3"
  },
  "language_info": {
   "codemirror_mode": {
    "name": "ipython",
    "version": 3
   },
   "file_extension": ".py",
   "mimetype": "text/x-python",
   "name": "python",
   "nbconvert_exporter": "python",
   "pygments_lexer": "ipython3",
   "version": "3.7.3"
  }
 },
 "nbformat": 4,
 "nbformat_minor": 2
}
